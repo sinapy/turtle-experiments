{
 "cells": [
  {
   "cell_type": "code",
   "execution_count": 9,
   "id": "361da365-71b1-4aef-b7cc-60e476e0a234",
   "metadata": {},
   "outputs": [],
   "source": [
    "import turtle\n",
    "import numpy as np\n",
    "\n",
    "t = turtle.Turtle()\n",
    "\n",
    "t.speed(0)\n",
    "\n",
    "def move(distance):\n",
    "    t.goto(0,0)\n",
    "    t.forward(distance)\n",
    "    t.right(1)\n",
    "\n",
    "for i in range(90):\n",
    "    move(i+10)\n",
    "\n",
    "for i in range(90, 0, -1):\n",
    "    move(i+10)\n",
    "\n",
    "for j in range(3):\n",
    "    for i in range(30):\n",
    "        move((i+10)/3)\n",
    "\n",
    "    for i in range(30, 0, -1):\n",
    "        move((i+10)/3)\n",
    "\n"
   ]
  },
  {
   "cell_type": "code",
   "execution_count": 13,
   "id": "ce44371d-8bb0-4471-94c8-b8d341d2fb6c",
   "metadata": {},
   "outputs": [],
   "source": [
    "canvas = turtle.getcanvas()"
   ]
  },
  {
   "cell_type": "code",
   "execution_count": 16,
   "id": "59fd46ef-9f64-41d9-8f57-97a775353955",
   "metadata": {},
   "outputs": [],
   "source": [
    "def on_motion(event):\n",
    "    x = event.x - turtle.window_width() / 2\n",
    "    y = -event.y + turtle.window_height() / 2\n",
    "    print(x, y)\n",
    "    return x, y"
   ]
  },
  {
   "cell_type": "code",
   "execution_count": 17,
   "id": "f1bea353-f2a8-4bc5-bbad-826ec3cc6609",
   "metadata": {},
   "outputs": [],
   "source": [
    "canvas.bind('<Motion>', on_motion)"
   ]
  },
  {
   "cell_type": "code",
   "execution_count": null,
   "id": "80b39acf-1c53-4111-80c6-a094f3aa06fc",
   "metadata": {},
   "outputs": [],
   "source": []
  }
 ],
 "metadata": {
  "kernelspec": {
   "display_name": "Python 3 (ipykernel)",
   "language": "python",
   "name": "python3"
  },
  "language_info": {
   "codemirror_mode": {
    "name": "ipython",
    "version": 3
   },
   "file_extension": ".py",
   "mimetype": "text/x-python",
   "name": "python",
   "nbconvert_exporter": "python",
   "pygments_lexer": "ipython3",
   "version": "3.10.0"
  }
 },
 "nbformat": 4,
 "nbformat_minor": 5
}
